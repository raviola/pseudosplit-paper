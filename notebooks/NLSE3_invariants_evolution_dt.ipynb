{
 "cells": [
  {
   "cell_type": "code",
   "execution_count": 1,
   "id": "c5541046-ef64-4ab5-bd0f-dc016613d567",
   "metadata": {
    "editable": true,
    "slideshow": {
     "slide_type": ""
    },
    "tags": []
   },
   "outputs": [],
   "source": [
    "import sys"
   ]
  },
  {
   "cell_type": "code",
   "execution_count": 2,
   "id": "64724771-1556-4e65-89ef-cf0b98a8b6a3",
   "metadata": {},
   "outputs": [],
   "source": [
    "sys.path.append(\"../pseudosplit\")"
   ]
  },
  {
   "cell_type": "code",
   "execution_count": 3,
   "id": "25c64a2a-45dc-42ce-a3ff-a0ddd6d0c2f0",
   "metadata": {},
   "outputs": [],
   "source": [
    "import numpy as np"
   ]
  },
  {
   "cell_type": "code",
   "execution_count": 4,
   "id": "f74f2011-e361-4208-8ab0-b883793545e2",
   "metadata": {},
   "outputs": [],
   "source": [
    "import matplotlib.pyplot as plt\n",
    "%matplotlib qt"
   ]
  },
  {
   "cell_type": "code",
   "execution_count": 5,
   "id": "e9874f91-944d-4d7d-a415-4fce55aeda3b",
   "metadata": {},
   "outputs": [],
   "source": [
    "from basis import FourierBasis\n",
    "from state import State\n",
    "from scheme import (Strang, Neri, Yoshida6,\n",
    "                    AffineSym2, AffineSym4, AffineSym6, AffineSym8) "
   ]
  },
  {
   "cell_type": "code",
   "execution_count": 6,
   "id": "c3132720-7c84-4742-8353-e3aaa02cd009",
   "metadata": {},
   "outputs": [],
   "source": [
    "from solver import Solver"
   ]
  },
  {
   "cell_type": "code",
   "execution_count": 7,
   "id": "922329f6-bc4f-4230-99f5-e8253b5471d4",
   "metadata": {},
   "outputs": [],
   "source": [
    "from models import NLSE3Model1D"
   ]
  },
  {
   "cell_type": "code",
   "execution_count": 8,
   "id": "0e0be668-c8ae-41d6-940f-418112cc0d36",
   "metadata": {},
   "outputs": [],
   "source": [
    "# List of splitting methods\n",
    "methods_list = [Strang(), Neri(), Yoshida6(),\n",
    "                AffineSym2(), AffineSym4(), AffineSym6()]"
   ]
  },
  {
   "cell_type": "code",
   "execution_count": 9,
   "id": "c0f87d0d-4d3a-4254-ad62-7c52c8f93b45",
   "metadata": {},
   "outputs": [],
   "source": [
    "dt_list = [1e-1, 5.0e-2, 2.5e-2, 1.0e-2, 5e-3, 2.5e-3]"
   ]
  },
  {
   "cell_type": "code",
   "execution_count": 10,
   "id": "621a2c2b-9388-439f-a640-afd470ae4301",
   "metadata": {},
   "outputs": [],
   "source": [
    "# Soliton parameters\n",
    "eta = 1.0  # amplitude\n",
    "c = 0.01  # speed\n",
    "omega = 0.5*(c**2 - eta**2)  # angular frequency\n",
    "\n",
    "# Define the soliton function\n",
    "soliton = lambda x: eta / np.cosh(eta*x) * np.exp(1j*c*x)"
   ]
  },
  {
   "cell_type": "code",
   "execution_count": 11,
   "id": "f87b6e34-e64e-402e-a257-19e77de86194",
   "metadata": {},
   "outputs": [],
   "source": [
    "# Set the pseudo-spectral basis\n",
    "N = 2**11  # Number of Fourier modes\n",
    "I = (-50*np.pi, 50*np.pi)  # Interval\n",
    "fb = FourierBasis('fb', N, I)"
   ]
  },
  {
   "cell_type": "code",
   "execution_count": 12,
   "id": "905aecf6-ac3c-4a7e-913c-ce53f8678f63",
   "metadata": {},
   "outputs": [],
   "source": [
    "# Define the initial state\n",
    "u0 = State(name='u0', basis=fb, u=soliton) "
   ]
  },
  {
   "cell_type": "code",
   "execution_count": 13,
   "id": "cdd7aa76-835a-49d7-84f6-06ae6d2295ac",
   "metadata": {},
   "outputs": [],
   "source": [
    "# Set the model\n",
    "model = NLSE3Model1D()\n",
    "H = model.get_hamiltonian(fb)"
   ]
  },
  {
   "cell_type": "code",
   "execution_count": 14,
   "id": "71e746d3-326e-45c9-84b8-f88cd8c997b4",
   "metadata": {},
   "outputs": [],
   "source": [
    "plt.style.use(\"classic\")\n",
    "fig_H, ax_H = plt.subplots()\n",
    "fig_M, ax_M = plt.subplots()\n",
    "\n",
    "ax_H.grid()\n",
    "ax_M.grid()"
   ]
  },
  {
   "cell_type": "code",
   "execution_count": 15,
   "id": "10e569c6-264f-4532-acae-7ce1251603bd",
   "metadata": {
    "editable": true,
    "slideshow": {
     "slide_type": ""
    },
    "tags": []
   },
   "outputs": [
    {
     "name": "stdout",
     "output_type": "stream",
     "text": [
      "yoshida6 0.1\n",
      "1000.0\n",
      "80000\n",
      "yoshida6 0.05\n",
      "500.0000000000794\n",
      "999.9999999996382\n",
      "160008\n",
      "yoshida6 0.025\n",
      "250.0000000000397\n",
      "499.9999999998191\n",
      "749.9999999995918\n",
      "999.9999999993644\n",
      "320008\n",
      "yoshida6 0.01\n",
      "100.00000000001425\n",
      "199.99999999996308\n",
      "299.99999999987216\n",
      "399.9999999997812\n",
      "499.99999999969026\n",
      "599.9999999995994\n",
      "699.9999999995084\n",
      "799.9999999994175\n",
      "899.9999999993265\n",
      "999.9999999992356\n",
      "800008\n",
      "yoshida6 0.005\n",
      "50.00000000000713\n",
      "99.99999999998154\n",
      "149.99999999993608\n",
      "199.9999999998906\n",
      "249.99999999984513\n",
      "299.9999999997997\n",
      "349.9999999997542\n",
      "399.99999999970873\n",
      "449.99999999966326\n",
      "499.9999999996178\n",
      "549.9999999995723\n",
      "599.9999999995268\n",
      "649.9999999994814\n",
      "699.9999999994359\n",
      "749.9999999993904\n",
      "799.9999999993449\n",
      "849.9999999992995\n",
      "899.999999999254\n",
      "949.9999999992085\n",
      "999.999999999163\n",
      "1600008\n",
      "yoshida6 0.0025\n",
      "25.000000000003563\n",
      "49.99999999999077\n",
      "74.99999999996804\n",
      "99.9999999999453\n",
      "124.99999999992257\n",
      "149.99999999989984\n",
      "174.9999999998771\n",
      "199.99999999985437\n",
      "224.99999999983163\n",
      "249.9999999998089\n",
      "274.99999999978616\n",
      "299.9999999997634\n",
      "324.9999999997407\n",
      "349.99999999971794\n",
      "374.9999999996952\n",
      "399.99999999967247\n",
      "424.99999999964973\n",
      "449.999999999627\n",
      "474.99999999960426\n",
      "499.9999999995815\n",
      "524.9999999998544\n",
      "550.0000000004001\n",
      "575.0000000009458\n",
      "600.0000000014915\n",
      "625.0000000020372\n",
      "650.0000000025829\n",
      "675.0000000031285\n",
      "700.0000000036742\n",
      "725.0000000042199\n",
      "750.0000000047656\n",
      "775.0000000053113\n",
      "800.000000005857\n",
      "825.0000000064027\n",
      "850.0000000069484\n",
      "875.0000000074941\n",
      "900.0000000080398\n",
      "925.0000000085855\n",
      "950.0000000091312\n",
      "975.0000000096769\n",
      "1000.0\n",
      "3200000\n"
     ]
    }
   ],
   "source": [
    "for method in methods_list:\n",
    "    for dt in dt_list:\n",
    "        print(method.name, dt)\n",
    "        # Create the solver\n",
    "        solver = Solver(model, method)\n",
    "\n",
    "        # Initialize solver\n",
    "        t0 = 0.0\n",
    "        tf = 1000.0\n",
    "        solver.start(u0, t0, tf) \n",
    "\n",
    "        # First point of trajectory\n",
    "        t_values = [t0]\n",
    "        H_values = [H(u0)]\n",
    "        M_values = [u0.norm()]\n",
    "\n",
    "        count = 0\n",
    "        while solver.active:\n",
    "            u = solver.step(dt)\n",
    "            t = solver.sim_time\n",
    "            t_values.append(t)\n",
    "            H_values.append(H(u))\n",
    "            M_values.append(u.norm()) \n",
    "            count += 1\n",
    "            if count % 10000 == 0:\n",
    "                print(t)\n",
    "                count = 0\n",
    "        H_rel_err = np.abs((H_values-H_values[0])/H_values[0])\n",
    "        M_rel_err = np.abs((M_values-M_values[0])/M_values[0])\n",
    "        print(method.P_A.nfev)\n",
    "        label = \"$\\mathtt{\" + method.name + \"}, \\Delta t=\" + str(dt) + \"$\"\n",
    "        ax_H.plot(t_values, H_rel_err, label=label)\n",
    "        ax_M.plot(t_values, M_rel_err, label=label)\n",
    "        fig_H.show()\n",
    "        fig_M.show()\n",
    "        \n",
    "        "
   ]
  },
  {
   "cell_type": "code",
   "execution_count": 16,
   "id": "48db4053-3de8-4ee8-85ba-7b8ad246ca92",
   "metadata": {
    "editable": true,
    "slideshow": {
     "slide_type": ""
    },
    "tags": []
   },
   "outputs": [
    {
     "data": {
      "text/plain": [
       "<matplotlib.legend.Legend at 0x7f0187a703d0>"
      ]
     },
     "execution_count": 16,
     "metadata": {},
     "output_type": "execute_result"
    }
   ],
   "source": [
    "ax_H.legend(loc=\"upper left\")\n",
    "ax_M.legend(loc=\"upper left\")"
   ]
  }
 ],
 "metadata": {
  "kernelspec": {
   "display_name": "Python 3 (ipykernel)",
   "language": "python",
   "name": "python3"
  },
  "language_info": {
   "codemirror_mode": {
    "name": "ipython",
    "version": 3
   },
   "file_extension": ".py",
   "mimetype": "text/x-python",
   "name": "python",
   "nbconvert_exporter": "python",
   "pygments_lexer": "ipython3",
   "version": "3.11.5"
  }
 },
 "nbformat": 4,
 "nbformat_minor": 5
}
